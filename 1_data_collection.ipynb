{
 "cells": [
  {
   "cell_type": "code",
   "execution_count": 6,
   "metadata": {},
   "outputs": [],
   "source": [
    "import pandas as pd\n",
    "import numpy as np\n",
    "import matplotlib.pyplot as plt\n",
    "import seaborn as sns\n",
    "import warnings\n",
    "warnings.filterwarnings('ignore')\n",
    "import os\n",
    "import shutil\n",
    "import zipfile"
   ]
  },
  {
   "cell_type": "code",
   "execution_count": 2,
   "metadata": {},
   "outputs": [],
   "source": [
    "# Create the .kaggle directory if it doesn't exist\n",
    "os.makedirs(os.path.expanduser('~/.kaggle'), exist_ok=True)\n",
    "\n",
    "# Copy the kaggle.json file to the .kaggle directory\n",
    "shutil.copy('kaggle.json', os.path.expanduser('~/.kaggle/'))\n",
    "\n",
    "# Set the permissions of the file\n",
    "os.chmod(os.path.expanduser('~/.kaggle/kaggle.json'), 0o600)"
   ]
  },
  {
   "cell_type": "code",
   "execution_count": 6,
   "metadata": {},
   "outputs": [
    {
     "name": "stdout",
     "output_type": "stream",
     "text": [
      "Dataset URL: https://www.kaggle.com/datasets/mfaisalqureshi/spam-email\n",
      "License(s): CC0-1.0\n",
      "Downloading spam-email.zip to e:\\msc\\clg\\Sem 3\\NLP\\Email Spam\n",
      "\n"
     ]
    },
    {
     "name": "stderr",
     "output_type": "stream",
     "text": [
      "\n",
      "  0%|          | 0.00/207k [00:00<?, ?B/s]\n",
      "100%|██████████| 207k/207k [00:01<00:00, 129kB/s]\n",
      "100%|██████████| 207k/207k [00:01<00:00, 129kB/s]\n"
     ]
    }
   ],
   "source": [
    "!kaggle datasets download -d mfaisalqureshi/spam-email"
   ]
  },
  {
   "cell_type": "code",
   "execution_count": null,
   "metadata": {},
   "outputs": [],
   "source": [
    "with zipfile.ZipFile(\"spam-email.zip\", 'r') as zip_ref:\n",
    "    zip_ref.extractall(\"spam-email\")"
   ]
  },
  {
   "cell_type": "code",
   "execution_count": 3,
   "metadata": {},
   "outputs": [
    {
     "name": "stdout",
     "output_type": "stream",
     "text": [
      "Dataset URL: https://www.kaggle.com/datasets/venky73/spam-mails-dataset\n",
      "License(s): CC0-1.0\n",
      "spam-mails-dataset.zip: Skipping, found more recently modified local copy (use --force to force download)\n"
     ]
    }
   ],
   "source": [
    "!kaggle datasets download -d venky73/spam-mails-dataset"
   ]
  },
  {
   "cell_type": "code",
   "execution_count": 19,
   "metadata": {},
   "outputs": [],
   "source": [
    "with zipfile.ZipFile(\"spam-mails-dataset.zip\", 'r') as zip_ref:\n",
    "    zip_ref.extractall(\"spam-mails-dataset\")"
   ]
  },
  {
   "cell_type": "code",
   "execution_count": 20,
   "metadata": {},
   "outputs": [
    {
     "name": "stdout",
     "output_type": "stream",
     "text": [
      "Dataset URL: https://www.kaggle.com/datasets/ozlerhakan/spam-or-not-spam-dataset\n",
      "License(s): other\n",
      "Downloading spam-or-not-spam-dataset.zip to e:\\msc\\Sem 3\\NLP\\New folder\n",
      "\n"
     ]
    },
    {
     "name": "stderr",
     "output_type": "stream",
     "text": [
      "\n",
      "  0%|          | 0.00/1.16M [00:00<?, ?B/s]\n",
      " 86%|████████▋ | 1.00M/1.16M [00:01<00:00, 621kB/s]\n",
      "100%|██████████| 1.16M/1.16M [00:01<00:00, 711kB/s]\n"
     ]
    }
   ],
   "source": [
    "!kaggle datasets download -d ozlerhakan/spam-or-not-spam-dataset"
   ]
  },
  {
   "cell_type": "code",
   "execution_count": 21,
   "metadata": {},
   "outputs": [],
   "source": [
    "with zipfile.ZipFile(\"spam-or-not-spam-dataset.zip\", 'r') as zip_ref:\n",
    "    zip_ref.extractall(\"spam-or-not-spam-dataset\")"
   ]
  },
  {
   "cell_type": "code",
   "execution_count": 22,
   "metadata": {},
   "outputs": [
    {
     "name": "stdout",
     "output_type": "stream",
     "text": [
      "Dataset URL: https://www.kaggle.com/datasets/rtatman/deceptive-opinion-spam-corpus\n",
      "License(s): CC-BY-NC-SA-4.0\n",
      "Downloading deceptive-opinion-spam-corpus.zip to e:\\msc\\Sem 3\\NLP\\New folder\n",
      "\n"
     ]
    },
    {
     "name": "stderr",
     "output_type": "stream",
     "text": [
      "\n",
      "  0%|          | 0.00/456k [00:00<?, ?B/s]\n",
      "100%|██████████| 456k/456k [00:01<00:00, 376kB/s]\n",
      "100%|██████████| 456k/456k [00:01<00:00, 375kB/s]\n"
     ]
    }
   ],
   "source": [
    "!kaggle datasets download -d rtatman/deceptive-opinion-spam-corpus"
   ]
  },
  {
   "cell_type": "code",
   "execution_count": 23,
   "metadata": {},
   "outputs": [],
   "source": [
    "with zipfile.ZipFile(\"deceptive-opinion-spam-corpus.zip\", 'r') as zip_ref:\n",
    "    zip_ref.extractall(\"deceptive-opinion-spam-corpus\")"
   ]
  }
 ],
 "metadata": {
  "kernelspec": {
   "display_name": "Python 3",
   "language": "python",
   "name": "python3"
  },
  "language_info": {
   "codemirror_mode": {
    "name": "ipython",
    "version": 3
   },
   "file_extension": ".py",
   "mimetype": "text/x-python",
   "name": "python",
   "nbconvert_exporter": "python",
   "pygments_lexer": "ipython3",
   "version": "3.11.4"
  }
 },
 "nbformat": 4,
 "nbformat_minor": 2
}
