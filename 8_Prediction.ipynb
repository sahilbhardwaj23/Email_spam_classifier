{
 "cells": [
  {
   "cell_type": "code",
   "execution_count": 18,
   "metadata": {},
   "outputs": [],
   "source": [
    "import pandas as pd\n",
    "from nltk.corpus import stopwords\n",
    "from nltk.stem import WordNetLemmatizer\n",
    "from nltk.tokenize import word_tokenize\n",
    "from gensim.models import Word2Vec\n",
    "import re\n",
    "import nltk"
   ]
  },
  {
   "cell_type": "code",
   "execution_count": 19,
   "metadata": {},
   "outputs": [
    {
     "name": "stderr",
     "output_type": "stream",
     "text": [
      "[nltk_data] Downloading package stopwords to\n",
      "[nltk_data]     C:\\Users\\Lenovo\\AppData\\Roaming\\nltk_data...\n",
      "[nltk_data]   Package stopwords is already up-to-date!\n",
      "[nltk_data] Downloading package wordnet to\n",
      "[nltk_data]     C:\\Users\\Lenovo\\AppData\\Roaming\\nltk_data...\n",
      "[nltk_data]   Package wordnet is already up-to-date!\n",
      "[nltk_data] Downloading package punkt to\n",
      "[nltk_data]     C:\\Users\\Lenovo\\AppData\\Roaming\\nltk_data...\n",
      "[nltk_data]   Package punkt is already up-to-date!\n"
     ]
    },
    {
     "data": {
      "text/plain": [
       "True"
      ]
     },
     "execution_count": 19,
     "metadata": {},
     "output_type": "execute_result"
    }
   ],
   "source": [
    "# Download necessary NLTK resources\n",
    "nltk.download('stopwords')\n",
    "nltk.download('wordnet')\n",
    "nltk.download('punkt')"
   ]
  },
  {
   "cell_type": "code",
   "execution_count": 20,
   "metadata": {},
   "outputs": [],
   "source": [
    "def preprocess_and_embed(text: str) -> pd.DataFrame:\n",
    "    # Step 1: Load the list of stop words and define essential ones\n",
    "    stop_words = set(stopwords.words('english')) - {'not', 'but', 'however', 'no', 'yet'}\n",
    "    \n",
    "    # Create a DataFrame with the input text in a column\n",
    "    df = pd.DataFrame({'user_text': [text]})\n",
    "\n",
    "    # Step 3: Convert text to lowercase\n",
    "    df['text'] = df['user_text'].str.lower()\n",
    "\n",
    "    # Step 4: Remove leading and trailing whitespace\n",
    "    df['text'] = df['text'].str.strip()\n",
    "\n",
    "    # Step 5: Replace newline characters with a space\n",
    "    df['text'] = df['text'].str.replace('\\n', ' ', regex=True)\n",
    "\n",
    "    # Step 6: Calculate word count\n",
    "    df['word_count'] = df['text'].apply(lambda x: len(x.split()))\n",
    "\n",
    "    # Step 7: Create a new column 'num_stop_words' by counting the number of stopwords in each text\n",
    "    df['num_stop_words'] = df['text'].apply(lambda x: len([word for word in x.split() if word in stop_words]))\n",
    "\n",
    "    # Step 8: Calculate the number of characters in the text\n",
    "    df['num_chars'] = df['text'].apply(len)\n",
    "\n",
    "    # Step 9: Create a new column 'num_punctuation_chars' to count punctuation characters in each text\n",
    "    df['num_punctuation_chars'] = df['text'].apply(\n",
    "        lambda x: sum([1 for char in x if char in '.,!?;:\"\\'()[]{}-'])\n",
    "    )\n",
    "\n",
    "    # Step 10: Remove non-English characters from the text column\n",
    "    df['text'] = df['text'].apply(lambda x: re.sub(r'[^A-Za-z0-9\\s!?.,]', '', str(x)))\n",
    "\n",
    "    # Step 11: Remove stop words from 'text' column, retaining essential ones\n",
    "    df['text'] = df['text'].apply(\n",
    "        lambda x: ' '.join([word for word in x.split() if word.lower() not in stop_words])\n",
    "    )\n",
    "\n",
    "    # Step 12: Define the lemmatizer\n",
    "    lemmatizer = WordNetLemmatizer()\n",
    "\n",
    "    # Step 13: Apply lemmatization to the 'text' column that contains no stopwords\n",
    "    df['text'] = df['text'].apply(\n",
    "        lambda x: ' '.join([lemmatizer.lemmatize(word) for word in x.split()])\n",
    "    )\n",
    "\n",
    "    # Step 14: Remove URLs from the 'text' column\n",
    "    df['text'] = df['text'].apply(lambda x: re.sub(r'http\\S+|www\\S+|https\\S+', '', x, flags=re.MULTILINE))\n",
    "\n",
    "    # Step 15: Remove email addresses from the 'text' column\n",
    "    df['text'] = df['text'].apply(lambda x: re.sub(r'\\S+@\\S+', '', x))\n",
    "\n",
    "    # Step 16: Remove HTML tags from the 'text' column\n",
    "    df['text'] = df['text'].apply(lambda x: re.sub(r'<.*?>', '', x))\n",
    "\n",
    "    # Step 17: Remove special characters and numbers from the 'text' column\n",
    "    df['text'] = df['text'].apply(lambda x: re.sub(r'[^a-zA-Z\\s]', '', x))\n",
    "\n",
    "    # Step 18: Calculate word count after preprocessing\n",
    "    df['word_count_after_preprocessing'] = df['text'].apply(lambda x: len(x.split()))\n",
    "\n",
    "    # Step 19: Calculate the number of characters after preprocessing\n",
    "    df['num_chars_after_preprocessing'] = df['text'].apply(len)\n",
    "\n",
    "    # Step 20: Tokenize text and remove unnecessary characters\n",
    "    df['tokenized_text'] = df['text'].apply(\n",
    "        lambda text: word_tokenize(text) if isinstance(text, str) else []\n",
    "    )\n",
    "\n",
    "    # Step 21: Convert the tokenized text to a list of sentences\n",
    "    sentences = df['tokenized_text'].to_list()\n",
    "\n",
    "    # Step 22: Initialize and train the Word2Vec model\n",
    "    model = Word2Vec(sentences, vector_size=100, window=5, min_count=1, workers=4)\n",
    "\n",
    "    # Step 23: Convert text data to Word2Vec embeddings\n",
    "    df['word2vec_embedded_vector'] = df['tokenized_text'].apply(\n",
    "        lambda tokens: (\n",
    "            [sum(x) / len(x) if len(x) > 0 else 0 for x in zip(*[model.wv[word] for word in tokens if word in model.wv])] \n",
    "            ) if len(tokens) > 0 else [0] * model.vector_size\n",
    "        )\n",
    "    \n",
    "\n",
    "    # Step 24: Drop the 'text' column\n",
    "    df = df.drop(columns=['text'])\n",
    "\n",
    "    # Step 26: Create a DataFrame from the list of vectors\n",
    "    expanded_df = pd.DataFrame(df['word2vec_embedded_vector'].tolist())\n",
    "\n",
    "    # Step 27: Rename the columns\n",
    "    expanded_df.columns = [f'vector_dim_{i+1}' for i in range(expanded_df.shape[1])]\n",
    "\n",
    "    # Step 28: Concatenate the new DataFrame with the original DataFrame\n",
    "    final_df = pd.concat([df, expanded_df], axis=1)\n",
    "\n",
    "    # Remove intermediate columns\n",
    "    final_df.drop(columns=['user_text', 'tokenized_text', 'word2vec_embedded_vector'], inplace=True)\n",
    "\n",
    "    return final_df\n"
   ]
  },
  {
   "cell_type": "code",
   "execution_count": 21,
   "metadata": {},
   "outputs": [],
   "source": [
    "# Example usage\n",
    "text_input = '''Hello Sahil !!!\n",
    "\n",
    "I’m excited to invite you to the DataDrooler Community! 🌱 Join community here\n",
    "\n",
    "After receiving an overwhelming response from over 1000 aspiring data professionals, I realized the need for a collaborative platform where we can connect and work on impactful data projects.\n",
    "\n",
    "This is why I'm launching a Free Upcoming Build Cohort starting September 29th, where you can collaborate with other brilliant minds in the field!\n",
    "\n",
    "If you’re interested, just join the community and you'll find more details there.\n",
    "\n",
    "Looking forward to seeing you in the community!\n",
    "--\n",
    "Warm Regards,\n",
    "Sunjana Ramana Chintala\n",
    "Linkedin: linkedin.com/in/sunjana-ramana \n",
    "DataDrooler Website : www.datadrooler.com'''"
   ]
  },
  {
   "cell_type": "code",
   "execution_count": 22,
   "metadata": {},
   "outputs": [],
   "source": [
    "result_df = preprocess_and_embed(text_input)"
   ]
  },
  {
   "cell_type": "code",
   "execution_count": 23,
   "metadata": {},
   "outputs": [
    {
     "data": {
      "text/html": [
       "<div>\n",
       "<style scoped>\n",
       "    .dataframe tbody tr th:only-of-type {\n",
       "        vertical-align: middle;\n",
       "    }\n",
       "\n",
       "    .dataframe tbody tr th {\n",
       "        vertical-align: top;\n",
       "    }\n",
       "\n",
       "    .dataframe thead th {\n",
       "        text-align: right;\n",
       "    }\n",
       "</style>\n",
       "<table border=\"1\" class=\"dataframe\">\n",
       "  <thead>\n",
       "    <tr style=\"text-align: right;\">\n",
       "      <th></th>\n",
       "      <th>word_count</th>\n",
       "      <th>num_stop_words</th>\n",
       "      <th>num_chars</th>\n",
       "      <th>num_punctuation_chars</th>\n",
       "      <th>word_count_after_preprocessing</th>\n",
       "      <th>num_chars_after_preprocessing</th>\n",
       "      <th>vector_dim_1</th>\n",
       "      <th>vector_dim_2</th>\n",
       "      <th>vector_dim_3</th>\n",
       "      <th>vector_dim_4</th>\n",
       "      <th>...</th>\n",
       "      <th>vector_dim_91</th>\n",
       "      <th>vector_dim_92</th>\n",
       "      <th>vector_dim_93</th>\n",
       "      <th>vector_dim_94</th>\n",
       "      <th>vector_dim_95</th>\n",
       "      <th>vector_dim_96</th>\n",
       "      <th>vector_dim_97</th>\n",
       "      <th>vector_dim_98</th>\n",
       "      <th>vector_dim_99</th>\n",
       "      <th>vector_dim_100</th>\n",
       "    </tr>\n",
       "  </thead>\n",
       "  <tbody>\n",
       "    <tr>\n",
       "      <th>0</th>\n",
       "      <td>102</td>\n",
       "      <td>39</td>\n",
       "      <td>692</td>\n",
       "      <td>22</td>\n",
       "      <td>58</td>\n",
       "      <td>480</td>\n",
       "      <td>-0.00048</td>\n",
       "      <td>0.000438</td>\n",
       "      <td>-0.00045</td>\n",
       "      <td>0.000315</td>\n",
       "      <td>...</td>\n",
       "      <td>0.001111</td>\n",
       "      <td>0.000132</td>\n",
       "      <td>0.000522</td>\n",
       "      <td>-0.00034</td>\n",
       "      <td>0.00154</td>\n",
       "      <td>0.000667</td>\n",
       "      <td>-0.000319</td>\n",
       "      <td>0.000016</td>\n",
       "      <td>-0.000348</td>\n",
       "      <td>-0.000372</td>\n",
       "    </tr>\n",
       "  </tbody>\n",
       "</table>\n",
       "<p>1 rows × 106 columns</p>\n",
       "</div>"
      ],
      "text/plain": [
       "   word_count  num_stop_words  num_chars  num_punctuation_chars  \\\n",
       "0         102              39        692                     22   \n",
       "\n",
       "   word_count_after_preprocessing  num_chars_after_preprocessing  \\\n",
       "0                              58                            480   \n",
       "\n",
       "   vector_dim_1  vector_dim_2  vector_dim_3  vector_dim_4  ...  vector_dim_91  \\\n",
       "0      -0.00048      0.000438      -0.00045      0.000315  ...       0.001111   \n",
       "\n",
       "   vector_dim_92  vector_dim_93  vector_dim_94  vector_dim_95  vector_dim_96  \\\n",
       "0       0.000132       0.000522       -0.00034        0.00154       0.000667   \n",
       "\n",
       "   vector_dim_97  vector_dim_98  vector_dim_99  vector_dim_100  \n",
       "0      -0.000319       0.000016      -0.000348       -0.000372  \n",
       "\n",
       "[1 rows x 106 columns]"
      ]
     },
     "execution_count": 23,
     "metadata": {},
     "output_type": "execute_result"
    }
   ],
   "source": [
    "result_df"
   ]
  },
  {
   "cell_type": "code",
   "execution_count": 24,
   "metadata": {},
   "outputs": [],
   "source": [
    "import pandas as pd\n",
    "import pickle\n",
    "model_file_path = 'random_forest__baseline_model.pkl'  # Change this to your actual file path\n",
    "with open(model_file_path, 'rb') as model_file:\n",
    "    model = pickle.load(model_file)\n"
   ]
  },
  {
   "cell_type": "code",
   "execution_count": 25,
   "metadata": {},
   "outputs": [
    {
     "name": "stdout",
     "output_type": "stream",
     "text": [
      "spam\n"
     ]
    }
   ],
   "source": [
    "if model.predict(result_df)==1:\n",
    "    print(\"spam\")\n",
    "else:\n",
    "    print(\"ham\")"
   ]
  }
 ],
 "metadata": {
  "kernelspec": {
   "display_name": "Python 3",
   "language": "python",
   "name": "python3"
  },
  "language_info": {
   "codemirror_mode": {
    "name": "ipython",
    "version": 3
   },
   "file_extension": ".py",
   "mimetype": "text/x-python",
   "name": "python",
   "nbconvert_exporter": "python",
   "pygments_lexer": "ipython3",
   "version": "3.11.4"
  }
 },
 "nbformat": 4,
 "nbformat_minor": 2
}
